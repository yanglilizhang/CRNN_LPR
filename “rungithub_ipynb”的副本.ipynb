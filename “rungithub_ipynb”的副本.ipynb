{
  "nbformat": 4,
  "nbformat_minor": 0,
  "metadata": {
    "colab": {
      "provenance": [],
      "authorship_tag": "ABX9TyPxHEzhlr7Q3pamvGazd+4+",
      "include_colab_link": true
    },
    "kernelspec": {
      "name": "python3",
      "display_name": "Python 3"
    },
    "language_info": {
      "name": "python"
    }
  },
  "cells": [
    {
      "cell_type": "markdown",
      "metadata": {
        "id": "view-in-github",
        "colab_type": "text"
      },
      "source": [
        "<a href=\"https://colab.research.google.com/github/yanglilizhang/CRNN_LPR/blob/dev/%E2%80%9Crungithub_ipynb%E2%80%9D%E7%9A%84%E5%89%AF%E6%9C%AC.ipynb\" target=\"_parent\"><img src=\"https://colab.research.google.com/assets/colab-badge.svg\" alt=\"Open In Colab\"/></a>"
      ]
    },
    {
      "cell_type": "code",
      "execution_count": null,
      "metadata": {
        "colab": {
          "base_uri": "https://localhost:8080/"
        },
        "id": "E8AVCtxRRKuo",
        "outputId": "c9023166-8f90-46d8-fa63-b186988042d1"
      },
      "outputs": [
        {
          "output_type": "stream",
          "name": "stdout",
          "text": [
            "/content\n",
            "/content\n",
            "/content/sample_data\n",
            "/content/sample_data\n",
            "Cloning into 'CRNN_LPR'...\n",
            "fatal: Remote branch dev not found in upstream origin\n",
            "/content/sample_data\n",
            "/content/sample_data\n"
          ]
        }
      ],
      "source": [
        "# 进入content文件夹中\n",
        "%cd /content\n",
        "!pwd\n",
        "# 进入\n",
        "%cd sample_data/\n",
        "!pwd\n",
        "# clone github project\n",
        "!git clone -b dev https://github.com/yanglilizhang/CRNN_LPR.git\n",
        "!pwd\n",
        "%cd /content/sample_data/CRNN_LPR\n",
        "# %cd /content/sample_data\n",
        "# 删除当前目录\n",
        "# !rm -rf CRNN_LPR"
      ]
    }
  ]
}